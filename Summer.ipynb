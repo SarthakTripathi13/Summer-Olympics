{
  "nbformat": 4,
  "nbformat_minor": 0,
  "metadata": {
    "kernelspec": {
      "display_name": "Python 2",
      "language": "python",
      "name": "python2"
    },
    "language_info": {
      "codemirror_mode": {
        "name": "ipython",
        "version": 2
      },
      "file_extension": ".py",
      "mimetype": "text/x-python",
      "name": "python",
      "nbconvert_exporter": "python",
      "pygments_lexer": "ipython2",
      "version": "2.7.16"
    },
    "colab": {
      "name": "Copy of Summer.ipynb",
      "provenance": [],
      "collapsed_sections": []
    }
  },
  "cells": [
    {
      "cell_type": "code",
      "metadata": {
        "id": "m74ML6Mgez6r"
      },
      "source": [
        "import pandas as pd\n",
        "import numpy as np"
      ],
      "execution_count": 57,
      "outputs": []
    },
    {
      "cell_type": "code",
      "metadata": {
        "id": "u5-OyOJCezsr"
      },
      "source": [
        "data = pd.read_csv(\"summer.csv\")"
      ],
      "execution_count": 58,
      "outputs": []
    },
    {
      "cell_type": "code",
      "metadata": {
        "colab": {
          "base_uri": "https://localhost:8080/",
          "height": 203
        },
        "id": "iRbThqpnezeI",
        "outputId": "66b51eae-4660-4013-824f-33b0db62fc64"
      },
      "source": [
        "data.head()"
      ],
      "execution_count": null,
      "outputs": [
        {
          "output_type": "execute_result",
          "data": {
            "text/plain": [
              "   Year    City     Sport Discipline             Athlete Country Gender  \\\n",
              "0  1896  Athens  Aquatics   Swimming       HAJOS, Alfred     HUN    Men   \n",
              "1  1896  Athens  Aquatics   Swimming    HERSCHMANN, Otto     AUT    Men   \n",
              "2  1896  Athens  Aquatics   Swimming   DRIVAS, Dimitrios     GRE    Men   \n",
              "3  1896  Athens  Aquatics   Swimming  MALOKINIS, Ioannis     GRE    Men   \n",
              "4  1896  Athens  Aquatics   Swimming  CHASAPIS, Spiridon     GRE    Men   \n",
              "\n",
              "                        Event   Medal  \n",
              "0              100M Freestyle    Gold  \n",
              "1              100M Freestyle  Silver  \n",
              "2  100M Freestyle For Sailors  Bronze  \n",
              "3  100M Freestyle For Sailors    Gold  \n",
              "4  100M Freestyle For Sailors  Silver  "
            ],
            "text/html": [
              "<div>\n",
              "<style scoped>\n",
              "    .dataframe tbody tr th:only-of-type {\n",
              "        vertical-align: middle;\n",
              "    }\n",
              "\n",
              "    .dataframe tbody tr th {\n",
              "        vertical-align: top;\n",
              "    }\n",
              "\n",
              "    .dataframe thead th {\n",
              "        text-align: right;\n",
              "    }\n",
              "</style>\n",
              "<table border=\"1\" class=\"dataframe\">\n",
              "  <thead>\n",
              "    <tr style=\"text-align: right;\">\n",
              "      <th></th>\n",
              "      <th>Year</th>\n",
              "      <th>City</th>\n",
              "      <th>Sport</th>\n",
              "      <th>Discipline</th>\n",
              "      <th>Athlete</th>\n",
              "      <th>Country</th>\n",
              "      <th>Gender</th>\n",
              "      <th>Event</th>\n",
              "      <th>Medal</th>\n",
              "    </tr>\n",
              "  </thead>\n",
              "  <tbody>\n",
              "    <tr>\n",
              "      <th>0</th>\n",
              "      <td>1896</td>\n",
              "      <td>Athens</td>\n",
              "      <td>Aquatics</td>\n",
              "      <td>Swimming</td>\n",
              "      <td>HAJOS, Alfred</td>\n",
              "      <td>HUN</td>\n",
              "      <td>Men</td>\n",
              "      <td>100M Freestyle</td>\n",
              "      <td>Gold</td>\n",
              "    </tr>\n",
              "    <tr>\n",
              "      <th>1</th>\n",
              "      <td>1896</td>\n",
              "      <td>Athens</td>\n",
              "      <td>Aquatics</td>\n",
              "      <td>Swimming</td>\n",
              "      <td>HERSCHMANN, Otto</td>\n",
              "      <td>AUT</td>\n",
              "      <td>Men</td>\n",
              "      <td>100M Freestyle</td>\n",
              "      <td>Silver</td>\n",
              "    </tr>\n",
              "    <tr>\n",
              "      <th>2</th>\n",
              "      <td>1896</td>\n",
              "      <td>Athens</td>\n",
              "      <td>Aquatics</td>\n",
              "      <td>Swimming</td>\n",
              "      <td>DRIVAS, Dimitrios</td>\n",
              "      <td>GRE</td>\n",
              "      <td>Men</td>\n",
              "      <td>100M Freestyle For Sailors</td>\n",
              "      <td>Bronze</td>\n",
              "    </tr>\n",
              "    <tr>\n",
              "      <th>3</th>\n",
              "      <td>1896</td>\n",
              "      <td>Athens</td>\n",
              "      <td>Aquatics</td>\n",
              "      <td>Swimming</td>\n",
              "      <td>MALOKINIS, Ioannis</td>\n",
              "      <td>GRE</td>\n",
              "      <td>Men</td>\n",
              "      <td>100M Freestyle For Sailors</td>\n",
              "      <td>Gold</td>\n",
              "    </tr>\n",
              "    <tr>\n",
              "      <th>4</th>\n",
              "      <td>1896</td>\n",
              "      <td>Athens</td>\n",
              "      <td>Aquatics</td>\n",
              "      <td>Swimming</td>\n",
              "      <td>CHASAPIS, Spiridon</td>\n",
              "      <td>GRE</td>\n",
              "      <td>Men</td>\n",
              "      <td>100M Freestyle For Sailors</td>\n",
              "      <td>Silver</td>\n",
              "    </tr>\n",
              "  </tbody>\n",
              "</table>\n",
              "</div>"
            ]
          },
          "metadata": {},
          "execution_count": 351
        }
      ]
    },
    {
      "cell_type": "code",
      "metadata": {
        "colab": {
          "base_uri": "https://localhost:8080/"
        },
        "id": "HV9T_t928sIp",
        "outputId": "ad3aed93-8200-4350-d070-0b8f3f1641cd"
      },
      "source": [
        "data.isnull().sum()"
      ],
      "execution_count": 39,
      "outputs": [
        {
          "output_type": "execute_result",
          "data": {
            "text/plain": [
              "Year          0\n",
              "City          0\n",
              "Sport         0\n",
              "Discipline    0\n",
              "Athlete       0\n",
              "Country       4\n",
              "Gender        0\n",
              "Event         0\n",
              "Medal         0\n",
              "dtype: int64"
            ]
          },
          "metadata": {},
          "execution_count": 39
        }
      ]
    },
    {
      "cell_type": "markdown",
      "metadata": {
        "id": "E-VD3I3IepXQ"
      },
      "source": [
        "# Summer Olympics Data Analysis Assignment"
      ]
    },
    {
      "cell_type": "markdown",
      "metadata": {
        "id": "YzaH9FftepXX"
      },
      "source": [
        "### 1. In how many cities Summer Olympics is held so far?"
      ]
    },
    {
      "cell_type": "code",
      "metadata": {
        "colab": {
          "base_uri": "https://localhost:8080/"
        },
        "id": "3m4uo2AsepXZ",
        "outputId": "df52dd06-26df-4b3e-b155-2dfa82836a55"
      },
      "source": [
        "print('The number of cities summer olympics has been held so far is :' , len(data['City'].unique()))"
      ],
      "execution_count": null,
      "outputs": [
        {
          "output_type": "stream",
          "name": "stdout",
          "text": [
            "('The number of cities summer olympics has been held so far is :', 22)\n"
          ]
        }
      ]
    },
    {
      "cell_type": "markdown",
      "metadata": {
        "id": "XQYq9JtYepXa"
      },
      "source": [
        "### 2. Which sport is having most number of Gold Medals so far? (Top 5)"
      ]
    },
    {
      "cell_type": "markdown",
      "metadata": {
        "id": "eLcXP9-hAELR"
      },
      "source": [
        "##### UNSTACKING THE DATA BASED ON MEDALS"
      ]
    },
    {
      "cell_type": "code",
      "metadata": {
        "colab": {
          "base_uri": "https://localhost:8080/",
          "height": 234
        },
        "id": "B19QHEazepXb",
        "outputId": "82085a91-b868-4b89-c25a-9a2ddd114e66"
      },
      "source": [
        "data_frame = data.groupby('Sport')['Medal'].value_counts().unstack()\n",
        "data_frame.head()\n"
      ],
      "execution_count": null,
      "outputs": [
        {
          "output_type": "execute_result",
          "data": {
            "text/plain": [
              "Medal      Bronze    Gold  Silver\n",
              "Sport                            \n",
              "Aquatics   1365.0  1421.0  1384.0\n",
              "Archery      90.0   126.0   113.0\n",
              "Athletics  1199.0  1215.0  1224.0\n",
              "Badminton    52.0    46.0    46.0\n",
              "Baseball    112.0   111.0   112.0"
            ],
            "text/html": [
              "<div>\n",
              "<style scoped>\n",
              "    .dataframe tbody tr th:only-of-type {\n",
              "        vertical-align: middle;\n",
              "    }\n",
              "\n",
              "    .dataframe tbody tr th {\n",
              "        vertical-align: top;\n",
              "    }\n",
              "\n",
              "    .dataframe thead th {\n",
              "        text-align: right;\n",
              "    }\n",
              "</style>\n",
              "<table border=\"1\" class=\"dataframe\">\n",
              "  <thead>\n",
              "    <tr style=\"text-align: right;\">\n",
              "      <th>Medal</th>\n",
              "      <th>Bronze</th>\n",
              "      <th>Gold</th>\n",
              "      <th>Silver</th>\n",
              "    </tr>\n",
              "    <tr>\n",
              "      <th>Sport</th>\n",
              "      <th></th>\n",
              "      <th></th>\n",
              "      <th></th>\n",
              "    </tr>\n",
              "  </thead>\n",
              "  <tbody>\n",
              "    <tr>\n",
              "      <th>Aquatics</th>\n",
              "      <td>1365.0</td>\n",
              "      <td>1421.0</td>\n",
              "      <td>1384.0</td>\n",
              "    </tr>\n",
              "    <tr>\n",
              "      <th>Archery</th>\n",
              "      <td>90.0</td>\n",
              "      <td>126.0</td>\n",
              "      <td>113.0</td>\n",
              "    </tr>\n",
              "    <tr>\n",
              "      <th>Athletics</th>\n",
              "      <td>1199.0</td>\n",
              "      <td>1215.0</td>\n",
              "      <td>1224.0</td>\n",
              "    </tr>\n",
              "    <tr>\n",
              "      <th>Badminton</th>\n",
              "      <td>52.0</td>\n",
              "      <td>46.0</td>\n",
              "      <td>46.0</td>\n",
              "    </tr>\n",
              "    <tr>\n",
              "      <th>Baseball</th>\n",
              "      <td>112.0</td>\n",
              "      <td>111.0</td>\n",
              "      <td>112.0</td>\n",
              "    </tr>\n",
              "  </tbody>\n",
              "</table>\n",
              "</div>"
            ]
          },
          "metadata": {},
          "execution_count": 183
        }
      ]
    },
    {
      "cell_type": "code",
      "metadata": {
        "colab": {
          "base_uri": "https://localhost:8080/",
          "height": 234
        },
        "id": "t50SBOs96EoI",
        "outputId": "c765a111-309c-42e4-9187-c4c7b3ceab57"
      },
      "source": [
        "data_frame = pd.DataFrame(data_frame , columns=['Sport','Bronze','Gold','Silver'])\n",
        "data_frame.head()"
      ],
      "execution_count": null,
      "outputs": [
        {
          "output_type": "execute_result",
          "data": {
            "text/plain": [
              "           Sport  Bronze    Gold  Silver\n",
              "Sport                                   \n",
              "Aquatics     NaN  1365.0  1421.0  1384.0\n",
              "Archery      NaN    90.0   126.0   113.0\n",
              "Athletics    NaN  1199.0  1215.0  1224.0\n",
              "Badminton    NaN    52.0    46.0    46.0\n",
              "Baseball     NaN   112.0   111.0   112.0"
            ],
            "text/html": [
              "<div>\n",
              "<style scoped>\n",
              "    .dataframe tbody tr th:only-of-type {\n",
              "        vertical-align: middle;\n",
              "    }\n",
              "\n",
              "    .dataframe tbody tr th {\n",
              "        vertical-align: top;\n",
              "    }\n",
              "\n",
              "    .dataframe thead th {\n",
              "        text-align: right;\n",
              "    }\n",
              "</style>\n",
              "<table border=\"1\" class=\"dataframe\">\n",
              "  <thead>\n",
              "    <tr style=\"text-align: right;\">\n",
              "      <th></th>\n",
              "      <th>Sport</th>\n",
              "      <th>Bronze</th>\n",
              "      <th>Gold</th>\n",
              "      <th>Silver</th>\n",
              "    </tr>\n",
              "    <tr>\n",
              "      <th>Sport</th>\n",
              "      <th></th>\n",
              "      <th></th>\n",
              "      <th></th>\n",
              "      <th></th>\n",
              "    </tr>\n",
              "  </thead>\n",
              "  <tbody>\n",
              "    <tr>\n",
              "      <th>Aquatics</th>\n",
              "      <td>NaN</td>\n",
              "      <td>1365.0</td>\n",
              "      <td>1421.0</td>\n",
              "      <td>1384.0</td>\n",
              "    </tr>\n",
              "    <tr>\n",
              "      <th>Archery</th>\n",
              "      <td>NaN</td>\n",
              "      <td>90.0</td>\n",
              "      <td>126.0</td>\n",
              "      <td>113.0</td>\n",
              "    </tr>\n",
              "    <tr>\n",
              "      <th>Athletics</th>\n",
              "      <td>NaN</td>\n",
              "      <td>1199.0</td>\n",
              "      <td>1215.0</td>\n",
              "      <td>1224.0</td>\n",
              "    </tr>\n",
              "    <tr>\n",
              "      <th>Badminton</th>\n",
              "      <td>NaN</td>\n",
              "      <td>52.0</td>\n",
              "      <td>46.0</td>\n",
              "      <td>46.0</td>\n",
              "    </tr>\n",
              "    <tr>\n",
              "      <th>Baseball</th>\n",
              "      <td>NaN</td>\n",
              "      <td>112.0</td>\n",
              "      <td>111.0</td>\n",
              "      <td>112.0</td>\n",
              "    </tr>\n",
              "  </tbody>\n",
              "</table>\n",
              "</div>"
            ]
          },
          "metadata": {},
          "execution_count": 185
        }
      ]
    },
    {
      "cell_type": "code",
      "metadata": {
        "id": "gqY5uMGk75CD"
      },
      "source": [
        "data_frame.drop(['Sport','Bronze' , 'Silver'] , axis = 1 , inplace=True)"
      ],
      "execution_count": null,
      "outputs": []
    },
    {
      "cell_type": "code",
      "metadata": {
        "colab": {
          "base_uri": "https://localhost:8080/",
          "height": 234
        },
        "id": "XUpSZTfX7LJl",
        "outputId": "21b3ff76-d2ed-4da8-90db-1613974a21b5"
      },
      "source": [
        "data_frame = data_frame.sort_values(by = 'Gold' , ascending = False)\n",
        "data_frame.head()"
      ],
      "execution_count": null,
      "outputs": [
        {
          "output_type": "execute_result",
          "data": {
            "text/plain": [
              "              Gold\n",
              "Sport             \n",
              "Aquatics    1421.0\n",
              "Athletics   1215.0\n",
              "Rowing       890.0\n",
              "Gymnastics   820.0\n",
              "Fencing      552.0"
            ],
            "text/html": [
              "<div>\n",
              "<style scoped>\n",
              "    .dataframe tbody tr th:only-of-type {\n",
              "        vertical-align: middle;\n",
              "    }\n",
              "\n",
              "    .dataframe tbody tr th {\n",
              "        vertical-align: top;\n",
              "    }\n",
              "\n",
              "    .dataframe thead th {\n",
              "        text-align: right;\n",
              "    }\n",
              "</style>\n",
              "<table border=\"1\" class=\"dataframe\">\n",
              "  <thead>\n",
              "    <tr style=\"text-align: right;\">\n",
              "      <th></th>\n",
              "      <th>Gold</th>\n",
              "    </tr>\n",
              "    <tr>\n",
              "      <th>Sport</th>\n",
              "      <th></th>\n",
              "    </tr>\n",
              "  </thead>\n",
              "  <tbody>\n",
              "    <tr>\n",
              "      <th>Aquatics</th>\n",
              "      <td>1421.0</td>\n",
              "    </tr>\n",
              "    <tr>\n",
              "      <th>Athletics</th>\n",
              "      <td>1215.0</td>\n",
              "    </tr>\n",
              "    <tr>\n",
              "      <th>Rowing</th>\n",
              "      <td>890.0</td>\n",
              "    </tr>\n",
              "    <tr>\n",
              "      <th>Gymnastics</th>\n",
              "      <td>820.0</td>\n",
              "    </tr>\n",
              "    <tr>\n",
              "      <th>Fencing</th>\n",
              "      <td>552.0</td>\n",
              "    </tr>\n",
              "  </tbody>\n",
              "</table>\n",
              "</div>"
            ]
          },
          "metadata": {},
          "execution_count": 187
        }
      ]
    },
    {
      "cell_type": "code",
      "metadata": {
        "colab": {
          "base_uri": "https://localhost:8080/",
          "height": 403
        },
        "id": "DlvC9NpP8F8q",
        "outputId": "8c7ed676-ec52-4414-afee-2bc05d900eaf"
      },
      "source": [
        "data_frame.plot.bar(color = 'green' , figsize=(10,5))"
      ],
      "execution_count": null,
      "outputs": [
        {
          "output_type": "execute_result",
          "data": {
            "text/plain": [
              "<matplotlib.axes._subplots.AxesSubplot at 0x7f9f40776a50>"
            ]
          },
          "metadata": {},
          "execution_count": 181
        },
        {
          "output_type": "display_data",
          "data": {
            "image/png": "[encoded data removed]",
            "text/plain": [
              "<Figure size 720x360 with 1 Axes>"
            ]
          },
          "metadata": {
            "needs_background": "light"
          }
        }
      ]
    },
    {
      "cell_type": "markdown",
      "metadata": {
        "id": "cz2vD-PTepXb"
      },
      "source": [
        "### 3. Which sport is having most number of medals so far? (Top 5)"
      ]
    },
    {
      "cell_type": "code",
      "metadata": {
        "id": "mf05z6uSepXc"
      },
      "source": [
        "lst = []\n",
        "\n",
        "for sport in data['Sport'].unique():\n",
        "  lst.append([sport , len(data[data['Sport']==sport])])"
      ],
      "execution_count": 42,
      "outputs": []
    },
    {
      "cell_type": "code",
      "metadata": {
        "id": "zeqP4TQH__Uc"
      },
      "source": [
        "medals = pd.DataFrame(lst, columns=['Sport' , 'Number of Medals'])"
      ],
      "execution_count": 43,
      "outputs": []
    },
    {
      "cell_type": "code",
      "metadata": {
        "colab": {
          "base_uri": "https://localhost:8080/",
          "height": 203
        },
        "id": "P2UWP4Ql__Rv",
        "outputId": "ec32cfc7-eced-4e11-d0ba-bb77d7491c20"
      },
      "source": [
        "medals = medals.sort_values(by = 'Number of Medals' , ascending = False).head()\n",
        "medals"
      ],
      "execution_count": 51,
      "outputs": [
        {
          "output_type": "execute_result",
          "data": {
            "text/plain": [
              "         Sport  Number of Medals\n",
              "0     Aquatics              4170\n",
              "1    Athletics              3638\n",
              "17      Rowing              2667\n",
              "4   Gymnastics              2307\n",
              "3      Fencing              1613"
            ],
            "text/html": [
              "<div>\n",
              "<style scoped>\n",
              "    .dataframe tbody tr th:only-of-type {\n",
              "        vertical-align: middle;\n",
              "    }\n",
              "\n",
              "    .dataframe tbody tr th {\n",
              "        vertical-align: top;\n",
              "    }\n",
              "\n",
              "    .dataframe thead th {\n",
              "        text-align: right;\n",
              "    }\n",
              "</style>\n",
              "<table border=\"1\" class=\"dataframe\">\n",
              "  <thead>\n",
              "    <tr style=\"text-align: right;\">\n",
              "      <th></th>\n",
              "      <th>Sport</th>\n",
              "      <th>Number of Medals</th>\n",
              "    </tr>\n",
              "  </thead>\n",
              "  <tbody>\n",
              "    <tr>\n",
              "      <th>0</th>\n",
              "      <td>Aquatics</td>\n",
              "      <td>4170</td>\n",
              "    </tr>\n",
              "    <tr>\n",
              "      <th>1</th>\n",
              "      <td>Athletics</td>\n",
              "      <td>3638</td>\n",
              "    </tr>\n",
              "    <tr>\n",
              "      <th>17</th>\n",
              "      <td>Rowing</td>\n",
              "      <td>2667</td>\n",
              "    </tr>\n",
              "    <tr>\n",
              "      <th>4</th>\n",
              "      <td>Gymnastics</td>\n",
              "      <td>2307</td>\n",
              "    </tr>\n",
              "    <tr>\n",
              "      <th>3</th>\n",
              "      <td>Fencing</td>\n",
              "      <td>1613</td>\n",
              "    </tr>\n",
              "  </tbody>\n",
              "</table>\n",
              "</div>"
            ]
          },
          "metadata": {},
          "execution_count": 51
        }
      ]
    },
    {
      "cell_type": "code",
      "metadata": {
        "colab": {
          "base_uri": "https://localhost:8080/",
          "height": 403
        },
        "id": "-S8oUplo5gWX",
        "outputId": "be85f86a-6b30-490e-e1f3-3c2b752fe87a"
      },
      "source": [
        "medals.plot(x='Sport' , y='Number of Medals' , kind= 'bar' , color='blue' ,  figsize = (12,5))"
      ],
      "execution_count": 54,
      "outputs": [
        {
          "output_type": "execute_result",
          "data": {
            "text/plain": [
              "<matplotlib.axes._subplots.AxesSubplot at 0x7fb937f6b850>"
            ]
          },
          "metadata": {},
          "execution_count": 54
        },
        {
          "output_type": "display_data",
          "data": {
            "image/png": "[encoded data removed]",
            "text/plain": [
              "<Figure size 864x360 with 1 Axes>"
            ]
          },
          "metadata": {
            "needs_background": "light"
          }
        }
      ]
    },
    {
      "cell_type": "markdown",
      "metadata": {
        "id": "R4ovzbepepXd"
      },
      "source": [
        "### 4. Which player has won most number of medals? (Top 5)"
      ]
    },
    {
      "cell_type": "code",
      "metadata": {
        "id": "bJ4XPjWMepXd"
      },
      "source": [
        "lst1 = []\n",
        "for name in data['Athlete'].unique():\n",
        "  lst1.append([name , len(data[data['Athlete']==name])])"
      ],
      "execution_count": 59,
      "outputs": []
    },
    {
      "cell_type": "code",
      "metadata": {
        "id": "pCzfyCYFKInl"
      },
      "source": [
        "lst1 = pd.DataFrame(lst1 , columns = ['Name' , 'Medals won'])"
      ],
      "execution_count": 60,
      "outputs": []
    },
    {
      "cell_type": "code",
      "metadata": {
        "colab": {
          "base_uri": "https://localhost:8080/",
          "height": 203
        },
        "id": "6WQ-pqWfKIkS",
        "outputId": "7dd716fa-8997-4467-9f15-53149ee3dad2"
      },
      "source": [
        "lst1 = lst1.sort_values(by = 'Medals won' , ascending=False).head()\n",
        "lst1\n"
      ],
      "execution_count": 62,
      "outputs": [
        {
          "output_type": "execute_result",
          "data": {
            "text/plain": [
              "                       Name  Medals won\n",
              "18640       PHELPS, Michael          22\n",
              "7197       LATYNINA, Larisa          18\n",
              "9948     ANDRIANOV, Nikolay          15\n",
              "6591           ONO, Takashi          13\n",
              "5103   MANGIAROTTI, Edoardo          13"
            ],
            "text/html": [
              "<div>\n",
              "<style scoped>\n",
              "    .dataframe tbody tr th:only-of-type {\n",
              "        vertical-align: middle;\n",
              "    }\n",
              "\n",
              "    .dataframe tbody tr th {\n",
              "        vertical-align: top;\n",
              "    }\n",
              "\n",
              "    .dataframe thead th {\n",
              "        text-align: right;\n",
              "    }\n",
              "</style>\n",
              "<table border=\"1\" class=\"dataframe\">\n",
              "  <thead>\n",
              "    <tr style=\"text-align: right;\">\n",
              "      <th></th>\n",
              "      <th>Name</th>\n",
              "      <th>Medals won</th>\n",
              "    </tr>\n",
              "  </thead>\n",
              "  <tbody>\n",
              "    <tr>\n",
              "      <th>18640</th>\n",
              "      <td>PHELPS, Michael</td>\n",
              "      <td>22</td>\n",
              "    </tr>\n",
              "    <tr>\n",
              "      <th>7197</th>\n",
              "      <td>LATYNINA, Larisa</td>\n",
              "      <td>18</td>\n",
              "    </tr>\n",
              "    <tr>\n",
              "      <th>9948</th>\n",
              "      <td>ANDRIANOV, Nikolay</td>\n",
              "      <td>15</td>\n",
              "    </tr>\n",
              "    <tr>\n",
              "      <th>6591</th>\n",
              "      <td>ONO, Takashi</td>\n",
              "      <td>13</td>\n",
              "    </tr>\n",
              "    <tr>\n",
              "      <th>5103</th>\n",
              "      <td>MANGIAROTTI, Edoardo</td>\n",
              "      <td>13</td>\n",
              "    </tr>\n",
              "  </tbody>\n",
              "</table>\n",
              "</div>"
            ]
          },
          "metadata": {},
          "execution_count": 62
        }
      ]
    },
    {
      "cell_type": "code",
      "metadata": {
        "colab": {
          "base_uri": "https://localhost:8080/",
          "height": 462
        },
        "id": "RhmXHQYhKIiJ",
        "outputId": "ce27088a-4601-4fc4-84b1-cfd06a09b4fa"
      },
      "source": [
        "lst1.head().plot(x='Name' , y='Medals won' , kind= 'bar' , color='skyblue' ,  figsize = (12,5))"
      ],
      "execution_count": 64,
      "outputs": [
        {
          "output_type": "execute_result",
          "data": {
            "text/plain": [
              "<matplotlib.axes._subplots.AxesSubplot at 0x7fb937e00a50>"
            ]
          },
          "metadata": {},
          "execution_count": 64
        },
        {
          "output_type": "display_data",
          "data": {
            "image/png": "[encoded data removed]",
            "text/plain": [
              "<Figure size 864x360 with 1 Axes>"
            ]
          },
          "metadata": {
            "needs_background": "light"
          }
        }
      ]
    },
    {
      "cell_type": "markdown",
      "metadata": {
        "id": "taTCI2phepXe"
      },
      "source": [
        "### 5. Which player has won most number Gold Medals of medals? (Top 5)"
      ]
    },
    {
      "cell_type": "code",
      "metadata": {
        "id": "hXp6_HrLepXf"
      },
      "source": [
        "gold_medals = data.groupby('Athlete')['Medal'].value_counts().unstack().fillna(0)"
      ],
      "execution_count": 65,
      "outputs": []
    },
    {
      "cell_type": "code",
      "metadata": {
        "id": "NBFe0QqpMW2D"
      },
      "source": [
        "gold_medals = pd.DataFrame(gold_medals , columns = ['Name' , 'Bronze' , 'Gold' , 'Silver'])"
      ],
      "execution_count": 66,
      "outputs": []
    },
    {
      "cell_type": "code",
      "metadata": {
        "colab": {
          "base_uri": "https://localhost:8080/",
          "height": 234
        },
        "id": "iYLACgi2MWvl",
        "outputId": "bbf62257-9924-48d5-e9d5-8ab5ed9f91f9"
      },
      "source": [
        "gold_medals.head()"
      ],
      "execution_count": 67,
      "outputs": [
        {
          "output_type": "execute_result",
          "data": {
            "text/plain": [
              "                          Name  Bronze  Gold  Silver\n",
              "Athlete                                             \n",
              "AABYE, Edgar               NaN     0.0   1.0     0.0\n",
              "AALTONEN, Arvo Ossian      NaN     2.0   0.0     0.0\n",
              "AALTONEN, Paavo Johannes   NaN     2.0   3.0     0.0\n",
              "AAMODT, Ragnhild           NaN     0.0   1.0     0.0\n",
              "AANING, Alf Lied           NaN     0.0   0.0     1.0"
            ],
            "text/html": [
              "<div>\n",
              "<style scoped>\n",
              "    .dataframe tbody tr th:only-of-type {\n",
              "        vertical-align: middle;\n",
              "    }\n",
              "\n",
              "    .dataframe tbody tr th {\n",
              "        vertical-align: top;\n",
              "    }\n",
              "\n",
              "    .dataframe thead th {\n",
              "        text-align: right;\n",
              "    }\n",
              "</style>\n",
              "<table border=\"1\" class=\"dataframe\">\n",
              "  <thead>\n",
              "    <tr style=\"text-align: right;\">\n",
              "      <th></th>\n",
              "      <th>Name</th>\n",
              "      <th>Bronze</th>\n",
              "      <th>Gold</th>\n",
              "      <th>Silver</th>\n",
              "    </tr>\n",
              "    <tr>\n",
              "      <th>Athlete</th>\n",
              "      <th></th>\n",
              "      <th></th>\n",
              "      <th></th>\n",
              "      <th></th>\n",
              "    </tr>\n",
              "  </thead>\n",
              "  <tbody>\n",
              "    <tr>\n",
              "      <th>AABYE, Edgar</th>\n",
              "      <td>NaN</td>\n",
              "      <td>0.0</td>\n",
              "      <td>1.0</td>\n",
              "      <td>0.0</td>\n",
              "    </tr>\n",
              "    <tr>\n",
              "      <th>AALTONEN, Arvo Ossian</th>\n",
              "      <td>NaN</td>\n",
              "      <td>2.0</td>\n",
              "      <td>0.0</td>\n",
              "      <td>0.0</td>\n",
              "    </tr>\n",
              "    <tr>\n",
              "      <th>AALTONEN, Paavo Johannes</th>\n",
              "      <td>NaN</td>\n",
              "      <td>2.0</td>\n",
              "      <td>3.0</td>\n",
              "      <td>0.0</td>\n",
              "    </tr>\n",
              "    <tr>\n",
              "      <th>AAMODT, Ragnhild</th>\n",
              "      <td>NaN</td>\n",
              "      <td>0.0</td>\n",
              "      <td>1.0</td>\n",
              "      <td>0.0</td>\n",
              "    </tr>\n",
              "    <tr>\n",
              "      <th>AANING, Alf Lied</th>\n",
              "      <td>NaN</td>\n",
              "      <td>0.0</td>\n",
              "      <td>0.0</td>\n",
              "      <td>1.0</td>\n",
              "    </tr>\n",
              "  </tbody>\n",
              "</table>\n",
              "</div>"
            ]
          },
          "metadata": {},
          "execution_count": 67
        }
      ]
    },
    {
      "cell_type": "code",
      "metadata": {
        "id": "pMEIjrmLMWpU"
      },
      "source": [
        "gold_medals.drop(['Name' , 'Bronze' , 'Silver'] , axis = 1 , inplace = True)"
      ],
      "execution_count": 68,
      "outputs": []
    },
    {
      "cell_type": "code",
      "metadata": {
        "id": "HQjw4OOhNfmv"
      },
      "source": [
        "gold_medals = gold_medals.sort_values(by = \"Gold\" , ascending=False).head()"
      ],
      "execution_count": 69,
      "outputs": []
    },
    {
      "cell_type": "code",
      "metadata": {
        "colab": {
          "base_uri": "https://localhost:8080/",
          "height": 234
        },
        "id": "bwOU1bU6Nfj0",
        "outputId": "2244c9ae-7f88-4c09-c5a1-1c0fa6294aed"
      },
      "source": [
        "gold_medals"
      ],
      "execution_count": 70,
      "outputs": [
        {
          "output_type": "execute_result",
          "data": {
            "text/plain": [
              "                  Gold\n",
              "Athlete               \n",
              "PHELPS, Michael   18.0\n",
              "NURMI, Paavo       9.0\n",
              "LATYNINA, Larisa   9.0\n",
              "SPITZ, Mark        9.0\n",
              "LEWIS, Carl        9.0"
            ],
            "text/html": [
              "<div>\n",
              "<style scoped>\n",
              "    .dataframe tbody tr th:only-of-type {\n",
              "        vertical-align: middle;\n",
              "    }\n",
              "\n",
              "    .dataframe tbody tr th {\n",
              "        vertical-align: top;\n",
              "    }\n",
              "\n",
              "    .dataframe thead th {\n",
              "        text-align: right;\n",
              "    }\n",
              "</style>\n",
              "<table border=\"1\" class=\"dataframe\">\n",
              "  <thead>\n",
              "    <tr style=\"text-align: right;\">\n",
              "      <th></th>\n",
              "      <th>Gold</th>\n",
              "    </tr>\n",
              "    <tr>\n",
              "      <th>Athlete</th>\n",
              "      <th></th>\n",
              "    </tr>\n",
              "  </thead>\n",
              "  <tbody>\n",
              "    <tr>\n",
              "      <th>PHELPS, Michael</th>\n",
              "      <td>18.0</td>\n",
              "    </tr>\n",
              "    <tr>\n",
              "      <th>NURMI, Paavo</th>\n",
              "      <td>9.0</td>\n",
              "    </tr>\n",
              "    <tr>\n",
              "      <th>LATYNINA, Larisa</th>\n",
              "      <td>9.0</td>\n",
              "    </tr>\n",
              "    <tr>\n",
              "      <th>SPITZ, Mark</th>\n",
              "      <td>9.0</td>\n",
              "    </tr>\n",
              "    <tr>\n",
              "      <th>LEWIS, Carl</th>\n",
              "      <td>9.0</td>\n",
              "    </tr>\n",
              "  </tbody>\n",
              "</table>\n",
              "</div>"
            ]
          },
          "metadata": {},
          "execution_count": 70
        }
      ]
    },
    {
      "cell_type": "code",
      "metadata": {
        "colab": {
          "base_uri": "https://localhost:8080/",
          "height": 430
        },
        "id": "ggD83tN8NfhK",
        "outputId": "482713d9-e492-422d-da54-0861319e7702"
      },
      "source": [
        "gold_medals.head().plot.bar(color = 'yellow' , figsize=(10,5))"
      ],
      "execution_count": 71,
      "outputs": [
        {
          "output_type": "execute_result",
          "data": {
            "text/plain": [
              "<matplotlib.axes._subplots.AxesSubplot at 0x7fb937acf750>"
            ]
          },
          "metadata": {},
          "execution_count": 71
        },
        {
          "output_type": "display_data",
          "data": {
            "image/png": "[encoded data removed]",
            "text/plain": [
              "<Figure size 720x360 with 1 Axes>"
            ]
          },
          "metadata": {
            "needs_background": "light"
          }
        }
      ]
    },
    {
      "cell_type": "markdown",
      "metadata": {
        "id": "e16JIWd8epXf"
      },
      "source": [
        "### 6. In which year India won first Gold Medal in Summer Olympics?"
      ]
    },
    {
      "cell_type": "code",
      "metadata": {
        "colab": {
          "base_uri": "https://localhost:8080/",
          "height": 80
        },
        "id": "DZ-kA0RfepXg",
        "outputId": "24146ef0-bd4d-4e20-f634-749c9fae1cd8"
      },
      "source": [
        "ss = data[(data['Country'] == 'IND') & (data['Medal']=='Gold')]\n",
        "ss.head(1)\n",
        "\n",
        "\n",
        "# INDIA won its first gold medal in 1928."
      ],
      "execution_count": 72,
      "outputs": [
        {
          "output_type": "execute_result",
          "data": {
            "text/plain": [
              "      Year       City   Sport Discipline               Athlete Country Gender  \\\n",
              "5512  1928  Amsterdam  Hockey     Hockey  ALLEN, Richard James     IND    Men   \n",
              "\n",
              "       Event Medal  \n",
              "5512  Hockey  Gold  "
            ],
            "text/html": [
              "<div>\n",
              "<style scoped>\n",
              "    .dataframe tbody tr th:only-of-type {\n",
              "        vertical-align: middle;\n",
              "    }\n",
              "\n",
              "    .dataframe tbody tr th {\n",
              "        vertical-align: top;\n",
              "    }\n",
              "\n",
              "    .dataframe thead th {\n",
              "        text-align: right;\n",
              "    }\n",
              "</style>\n",
              "<table border=\"1\" class=\"dataframe\">\n",
              "  <thead>\n",
              "    <tr style=\"text-align: right;\">\n",
              "      <th></th>\n",
              "      <th>Year</th>\n",
              "      <th>City</th>\n",
              "      <th>Sport</th>\n",
              "      <th>Discipline</th>\n",
              "      <th>Athlete</th>\n",
              "      <th>Country</th>\n",
              "      <th>Gender</th>\n",
              "      <th>Event</th>\n",
              "      <th>Medal</th>\n",
              "    </tr>\n",
              "  </thead>\n",
              "  <tbody>\n",
              "    <tr>\n",
              "      <th>5512</th>\n",
              "      <td>1928</td>\n",
              "      <td>Amsterdam</td>\n",
              "      <td>Hockey</td>\n",
              "      <td>Hockey</td>\n",
              "      <td>ALLEN, Richard James</td>\n",
              "      <td>IND</td>\n",
              "      <td>Men</td>\n",
              "      <td>Hockey</td>\n",
              "      <td>Gold</td>\n",
              "    </tr>\n",
              "  </tbody>\n",
              "</table>\n",
              "</div>"
            ]
          },
          "metadata": {},
          "execution_count": 72
        }
      ]
    },
    {
      "cell_type": "markdown",
      "metadata": {
        "id": "W19vAyx-epXg"
      },
      "source": [
        "### 7. Which event is most popular in terms on number of players? (Top 5)"
      ]
    },
    {
      "cell_type": "code",
      "metadata": {
        "id": "O4ysh83jepXh"
      },
      "source": [
        "lst2 = []\n",
        "for event in data['Event'].unique():\n",
        "  lst2.append([event , len(data[data['Event']==event])])"
      ],
      "execution_count": 73,
      "outputs": []
    },
    {
      "cell_type": "code",
      "metadata": {
        "id": "GZvKGNPCSSS5"
      },
      "source": [
        "events = pd.DataFrame(lst2 , columns = ['Event' , 'Number of Players'])"
      ],
      "execution_count": 74,
      "outputs": []
    },
    {
      "cell_type": "code",
      "metadata": {
        "id": "9b0Wpv4SSSOu"
      },
      "source": [
        "events = events.sort_values(by = 'Number of Players' , ascending = False).head()"
      ],
      "execution_count": 75,
      "outputs": []
    },
    {
      "cell_type": "code",
      "metadata": {
        "colab": {
          "base_uri": "https://localhost:8080/",
          "height": 203
        },
        "id": "lKqZmYE7SSMQ",
        "outputId": "5fdfecad-699e-43df-a69a-3fbce8a80d29"
      },
      "source": [
        "events"
      ],
      "execution_count": 76,
      "outputs": [
        {
          "output_type": "execute_result",
          "data": {
            "text/plain": [
              "                Event  Number of Players\n",
              "80           Football               1497\n",
              "176            Hockey               1422\n",
              "138  Team Competition               1147\n",
              "327        Basketball               1012\n",
              "337          Handball                973"
            ],
            "text/html": [
              "<div>\n",
              "<style scoped>\n",
              "    .dataframe tbody tr th:only-of-type {\n",
              "        vertical-align: middle;\n",
              "    }\n",
              "\n",
              "    .dataframe tbody tr th {\n",
              "        vertical-align: top;\n",
              "    }\n",
              "\n",
              "    .dataframe thead th {\n",
              "        text-align: right;\n",
              "    }\n",
              "</style>\n",
              "<table border=\"1\" class=\"dataframe\">\n",
              "  <thead>\n",
              "    <tr style=\"text-align: right;\">\n",
              "      <th></th>\n",
              "      <th>Event</th>\n",
              "      <th>Number of Players</th>\n",
              "    </tr>\n",
              "  </thead>\n",
              "  <tbody>\n",
              "    <tr>\n",
              "      <th>80</th>\n",
              "      <td>Football</td>\n",
              "      <td>1497</td>\n",
              "    </tr>\n",
              "    <tr>\n",
              "      <th>176</th>\n",
              "      <td>Hockey</td>\n",
              "      <td>1422</td>\n",
              "    </tr>\n",
              "    <tr>\n",
              "      <th>138</th>\n",
              "      <td>Team Competition</td>\n",
              "      <td>1147</td>\n",
              "    </tr>\n",
              "    <tr>\n",
              "      <th>327</th>\n",
              "      <td>Basketball</td>\n",
              "      <td>1012</td>\n",
              "    </tr>\n",
              "    <tr>\n",
              "      <th>337</th>\n",
              "      <td>Handball</td>\n",
              "      <td>973</td>\n",
              "    </tr>\n",
              "  </tbody>\n",
              "</table>\n",
              "</div>"
            ]
          },
          "metadata": {},
          "execution_count": 76
        }
      ]
    },
    {
      "cell_type": "code",
      "metadata": {
        "colab": {
          "base_uri": "https://localhost:8080/",
          "height": 436
        },
        "id": "58ZjKgygV-iM",
        "outputId": "827a43db-7cc8-4146-ec54-faed1d56a65d"
      },
      "source": [
        "events.plot.bar(x='Event' , y='Number of Players',color='lightgreen' , figsize=(10,5))"
      ],
      "execution_count": 77,
      "outputs": [
        {
          "output_type": "execute_result",
          "data": {
            "text/plain": [
              "<matplotlib.axes._subplots.AxesSubplot at 0x7fb937b5bc50>"
            ]
          },
          "metadata": {},
          "execution_count": 77
        },
        {
          "output_type": "display_data",
          "data": {
            "image/png": "[encoded data removed]",
            "text/plain": [
              "<Figure size 720x360 with 1 Axes>"
            ]
          },
          "metadata": {
            "needs_background": "light"
          }
        }
      ]
    },
    {
      "cell_type": "markdown",
      "metadata": {
        "id": "OPzXI5HYepXh"
      },
      "source": [
        "### 8. Which sport is having most female Gold Medalists? (Top 5)"
      ]
    },
    {
      "cell_type": "code",
      "metadata": {
        "colab": {
          "base_uri": "https://localhost:8080/",
          "height": 203
        },
        "id": "xm7PnVh4epXi",
        "outputId": "5013a4a1-930c-4ba7-b169-2098339a2407"
      },
      "source": [
        "ll = data[data['Gender']=='Women']\n",
        "ll.head()"
      ],
      "execution_count": 78,
      "outputs": [
        {
          "output_type": "execute_result",
          "data": {
            "text/plain": [
              "     Year   City   Sport Discipline                Athlete Country Gender  \\\n",
              "416  1900  Paris    Golf       Golf           PRATT, Daria     USA  Women   \n",
              "417  1900  Paris    Golf       Golf  ABBOTT, Margaret Ives     USA  Women   \n",
              "418  1900  Paris    Golf       Golf      WHITTIER, Pauline     USA  Women   \n",
              "639  1900  Paris  Tennis     Tennis          JONES, Marion     ZZX  Women   \n",
              "640  1900  Paris  Tennis     Tennis      ROSENBAUM, Hedwig     ZZX  Women   \n",
              "\n",
              "             Event   Medal  \n",
              "416     Individual  Bronze  \n",
              "417     Individual    Gold  \n",
              "418     Individual  Silver  \n",
              "639  Mixed Doubles  Bronze  \n",
              "640  Mixed Doubles  Bronze  "
            ],
            "text/html": [
              "<div>\n",
              "<style scoped>\n",
              "    .dataframe tbody tr th:only-of-type {\n",
              "        vertical-align: middle;\n",
              "    }\n",
              "\n",
              "    .dataframe tbody tr th {\n",
              "        vertical-align: top;\n",
              "    }\n",
              "\n",
              "    .dataframe thead th {\n",
              "        text-align: right;\n",
              "    }\n",
              "</style>\n",
              "<table border=\"1\" class=\"dataframe\">\n",
              "  <thead>\n",
              "    <tr style=\"text-align: right;\">\n",
              "      <th></th>\n",
              "      <th>Year</th>\n",
              "      <th>City</th>\n",
              "      <th>Sport</th>\n",
              "      <th>Discipline</th>\n",
              "      <th>Athlete</th>\n",
              "      <th>Country</th>\n",
              "      <th>Gender</th>\n",
              "      <th>Event</th>\n",
              "      <th>Medal</th>\n",
              "    </tr>\n",
              "  </thead>\n",
              "  <tbody>\n",
              "    <tr>\n",
              "      <th>416</th>\n",
              "      <td>1900</td>\n",
              "      <td>Paris</td>\n",
              "      <td>Golf</td>\n",
              "      <td>Golf</td>\n",
              "      <td>PRATT, Daria</td>\n",
              "      <td>USA</td>\n",
              "      <td>Women</td>\n",
              "      <td>Individual</td>\n",
              "      <td>Bronze</td>\n",
              "    </tr>\n",
              "    <tr>\n",
              "      <th>417</th>\n",
              "      <td>1900</td>\n",
              "      <td>Paris</td>\n",
              "      <td>Golf</td>\n",
              "      <td>Golf</td>\n",
              "      <td>ABBOTT, Margaret Ives</td>\n",
              "      <td>USA</td>\n",
              "      <td>Women</td>\n",
              "      <td>Individual</td>\n",
              "      <td>Gold</td>\n",
              "    </tr>\n",
              "    <tr>\n",
              "      <th>418</th>\n",
              "      <td>1900</td>\n",
              "      <td>Paris</td>\n",
              "      <td>Golf</td>\n",
              "      <td>Golf</td>\n",
              "      <td>WHITTIER, Pauline</td>\n",
              "      <td>USA</td>\n",
              "      <td>Women</td>\n",
              "      <td>Individual</td>\n",
              "      <td>Silver</td>\n",
              "    </tr>\n",
              "    <tr>\n",
              "      <th>639</th>\n",
              "      <td>1900</td>\n",
              "      <td>Paris</td>\n",
              "      <td>Tennis</td>\n",
              "      <td>Tennis</td>\n",
              "      <td>JONES, Marion</td>\n",
              "      <td>ZZX</td>\n",
              "      <td>Women</td>\n",
              "      <td>Mixed Doubles</td>\n",
              "      <td>Bronze</td>\n",
              "    </tr>\n",
              "    <tr>\n",
              "      <th>640</th>\n",
              "      <td>1900</td>\n",
              "      <td>Paris</td>\n",
              "      <td>Tennis</td>\n",
              "      <td>Tennis</td>\n",
              "      <td>ROSENBAUM, Hedwig</td>\n",
              "      <td>ZZX</td>\n",
              "      <td>Women</td>\n",
              "      <td>Mixed Doubles</td>\n",
              "      <td>Bronze</td>\n",
              "    </tr>\n",
              "  </tbody>\n",
              "</table>\n",
              "</div>"
            ]
          },
          "metadata": {},
          "execution_count": 78
        }
      ]
    },
    {
      "cell_type": "code",
      "metadata": {
        "colab": {
          "base_uri": "https://localhost:8080/",
          "height": 234
        },
        "id": "P8q70-WZWgOJ",
        "outputId": "f71db4ed-05c4-4352-9ada-541c944c75ff"
      },
      "source": [
        "lst3 = ll.groupby('Sport')['Medal'].value_counts().unstack().fillna(0)\n",
        "lst3.head()"
      ],
      "execution_count": 79,
      "outputs": [
        {
          "output_type": "execute_result",
          "data": {
            "text/plain": [
              "Medal       Bronze  Gold  Silver\n",
              "Sport                           \n",
              "Aquatics       562   589     575\n",
              "Archery         35    39      37\n",
              "Athletics      381   389     393\n",
              "Badminton       26    23      23\n",
              "Basketball     119   120     120"
            ],
            "text/html": [
              "<div>\n",
              "<style scoped>\n",
              "    .dataframe tbody tr th:only-of-type {\n",
              "        vertical-align: middle;\n",
              "    }\n",
              "\n",
              "    .dataframe tbody tr th {\n",
              "        vertical-align: top;\n",
              "    }\n",
              "\n",
              "    .dataframe thead th {\n",
              "        text-align: right;\n",
              "    }\n",
              "</style>\n",
              "<table border=\"1\" class=\"dataframe\">\n",
              "  <thead>\n",
              "    <tr style=\"text-align: right;\">\n",
              "      <th>Medal</th>\n",
              "      <th>Bronze</th>\n",
              "      <th>Gold</th>\n",
              "      <th>Silver</th>\n",
              "    </tr>\n",
              "    <tr>\n",
              "      <th>Sport</th>\n",
              "      <th></th>\n",
              "      <th></th>\n",
              "      <th></th>\n",
              "    </tr>\n",
              "  </thead>\n",
              "  <tbody>\n",
              "    <tr>\n",
              "      <th>Aquatics</th>\n",
              "      <td>562</td>\n",
              "      <td>589</td>\n",
              "      <td>575</td>\n",
              "    </tr>\n",
              "    <tr>\n",
              "      <th>Archery</th>\n",
              "      <td>35</td>\n",
              "      <td>39</td>\n",
              "      <td>37</td>\n",
              "    </tr>\n",
              "    <tr>\n",
              "      <th>Athletics</th>\n",
              "      <td>381</td>\n",
              "      <td>389</td>\n",
              "      <td>393</td>\n",
              "    </tr>\n",
              "    <tr>\n",
              "      <th>Badminton</th>\n",
              "      <td>26</td>\n",
              "      <td>23</td>\n",
              "      <td>23</td>\n",
              "    </tr>\n",
              "    <tr>\n",
              "      <th>Basketball</th>\n",
              "      <td>119</td>\n",
              "      <td>120</td>\n",
              "      <td>120</td>\n",
              "    </tr>\n",
              "  </tbody>\n",
              "</table>\n",
              "</div>"
            ]
          },
          "metadata": {},
          "execution_count": 79
        }
      ]
    },
    {
      "cell_type": "code",
      "metadata": {
        "colab": {
          "base_uri": "https://localhost:8080/",
          "height": 234
        },
        "id": "4oQCYpFfWgLQ",
        "outputId": "b028ea8b-d82a-477f-aefb-16edc92e4de7"
      },
      "source": [
        "female_athlete = pd.DataFrame(lst3 , columns= ['Sport','Bronze' ,'Gold', 'Silver'])\n",
        "female_athlete.head()"
      ],
      "execution_count": 80,
      "outputs": [
        {
          "output_type": "execute_result",
          "data": {
            "text/plain": [
              "            Sport  Bronze  Gold  Silver\n",
              "Sport                                  \n",
              "Aquatics      NaN     562   589     575\n",
              "Archery       NaN      35    39      37\n",
              "Athletics     NaN     381   389     393\n",
              "Badminton     NaN      26    23      23\n",
              "Basketball    NaN     119   120     120"
            ],
            "text/html": [
              "<div>\n",
              "<style scoped>\n",
              "    .dataframe tbody tr th:only-of-type {\n",
              "        vertical-align: middle;\n",
              "    }\n",
              "\n",
              "    .dataframe tbody tr th {\n",
              "        vertical-align: top;\n",
              "    }\n",
              "\n",
              "    .dataframe thead th {\n",
              "        text-align: right;\n",
              "    }\n",
              "</style>\n",
              "<table border=\"1\" class=\"dataframe\">\n",
              "  <thead>\n",
              "    <tr style=\"text-align: right;\">\n",
              "      <th></th>\n",
              "      <th>Sport</th>\n",
              "      <th>Bronze</th>\n",
              "      <th>Gold</th>\n",
              "      <th>Silver</th>\n",
              "    </tr>\n",
              "    <tr>\n",
              "      <th>Sport</th>\n",
              "      <th></th>\n",
              "      <th></th>\n",
              "      <th></th>\n",
              "      <th></th>\n",
              "    </tr>\n",
              "  </thead>\n",
              "  <tbody>\n",
              "    <tr>\n",
              "      <th>Aquatics</th>\n",
              "      <td>NaN</td>\n",
              "      <td>562</td>\n",
              "      <td>589</td>\n",
              "      <td>575</td>\n",
              "    </tr>\n",
              "    <tr>\n",
              "      <th>Archery</th>\n",
              "      <td>NaN</td>\n",
              "      <td>35</td>\n",
              "      <td>39</td>\n",
              "      <td>37</td>\n",
              "    </tr>\n",
              "    <tr>\n",
              "      <th>Athletics</th>\n",
              "      <td>NaN</td>\n",
              "      <td>381</td>\n",
              "      <td>389</td>\n",
              "      <td>393</td>\n",
              "    </tr>\n",
              "    <tr>\n",
              "      <th>Badminton</th>\n",
              "      <td>NaN</td>\n",
              "      <td>26</td>\n",
              "      <td>23</td>\n",
              "      <td>23</td>\n",
              "    </tr>\n",
              "    <tr>\n",
              "      <th>Basketball</th>\n",
              "      <td>NaN</td>\n",
              "      <td>119</td>\n",
              "      <td>120</td>\n",
              "      <td>120</td>\n",
              "    </tr>\n",
              "  </tbody>\n",
              "</table>\n",
              "</div>"
            ]
          },
          "metadata": {},
          "execution_count": 80
        }
      ]
    },
    {
      "cell_type": "code",
      "metadata": {
        "id": "kiDm8tb6WgIx"
      },
      "source": [
        "female_athlete.drop(['Sport','Bronze', 'Silver'] , axis = 1 , inplace = True)"
      ],
      "execution_count": 81,
      "outputs": []
    },
    {
      "cell_type": "code",
      "metadata": {
        "colab": {
          "base_uri": "https://localhost:8080/",
          "height": 234
        },
        "id": "B4fGSAiFWgFt",
        "outputId": "08f4d597-47a3-4969-f280-0a20836f3776"
      },
      "source": [
        "female_athlete = female_athlete.sort_values(by = 'Gold' , ascending = False).head()\n",
        "female_athlete"
      ],
      "execution_count": 83,
      "outputs": [
        {
          "output_type": "execute_result",
          "data": {
            "text/plain": [
              "            Gold\n",
              "Sport           \n",
              "Aquatics     589\n",
              "Athletics    389\n",
              "Gymnastics   268\n",
              "Rowing       217\n",
              "Volleyball   166"
            ],
            "text/html": [
              "<div>\n",
              "<style scoped>\n",
              "    .dataframe tbody tr th:only-of-type {\n",
              "        vertical-align: middle;\n",
              "    }\n",
              "\n",
              "    .dataframe tbody tr th {\n",
              "        vertical-align: top;\n",
              "    }\n",
              "\n",
              "    .dataframe thead th {\n",
              "        text-align: right;\n",
              "    }\n",
              "</style>\n",
              "<table border=\"1\" class=\"dataframe\">\n",
              "  <thead>\n",
              "    <tr style=\"text-align: right;\">\n",
              "      <th></th>\n",
              "      <th>Gold</th>\n",
              "    </tr>\n",
              "    <tr>\n",
              "      <th>Sport</th>\n",
              "      <th></th>\n",
              "    </tr>\n",
              "  </thead>\n",
              "  <tbody>\n",
              "    <tr>\n",
              "      <th>Aquatics</th>\n",
              "      <td>589</td>\n",
              "    </tr>\n",
              "    <tr>\n",
              "      <th>Athletics</th>\n",
              "      <td>389</td>\n",
              "    </tr>\n",
              "    <tr>\n",
              "      <th>Gymnastics</th>\n",
              "      <td>268</td>\n",
              "    </tr>\n",
              "    <tr>\n",
              "      <th>Rowing</th>\n",
              "      <td>217</td>\n",
              "    </tr>\n",
              "    <tr>\n",
              "      <th>Volleyball</th>\n",
              "      <td>166</td>\n",
              "    </tr>\n",
              "  </tbody>\n",
              "</table>\n",
              "</div>"
            ]
          },
          "metadata": {},
          "execution_count": 83
        }
      ]
    },
    {
      "cell_type": "code",
      "metadata": {
        "colab": {
          "base_uri": "https://localhost:8080/",
          "height": 403
        },
        "id": "NoPZ4WyCbbqw",
        "outputId": "112188ec-fd7e-43b9-e4b1-c0c516e66e3e"
      },
      "source": [
        "female_athlete.plot.bar(color = 'red' , figsize=(10,5))"
      ],
      "execution_count": 85,
      "outputs": [
        {
          "output_type": "execute_result",
          "data": {
            "text/plain": [
              "<matplotlib.axes._subplots.AxesSubplot at 0x7fb937aa06d0>"
            ]
          },
          "metadata": {},
          "execution_count": 85
        },
        {
          "output_type": "display_data",
          "data": {
            "image/png": "[encoded data removed]",
            "text/plain": [
              "<Figure size 720x360 with 1 Axes>"
            ]
          },
          "metadata": {
            "needs_background": "light"
          }
        }
      ]
    }
  ]
}